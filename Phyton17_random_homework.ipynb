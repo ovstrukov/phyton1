{
 "cells": [
  {
   "cell_type": "markdown",
   "metadata": {},
   "source": [
    "Смоделировать игру против лотерейного автомата типа “777”. Игрок платит 1 руб., после чего выпадает случайное целое число, равномерно распределенное от 0 до 999. При некоторых значениях числа игрок получает выигрыш (см. справа)\n",
    "\n",
    "Выгодна ли игра игроку?\n",
    "\n",
    "Сколько в среднем приобретает\n",
    "или теряет игрок за одну игру?\n",
    "\n",
    "777: 200 руб.\n",
    "999: 100 руб.\n",
    "555: 50 руб.\n",
    "333: 15 руб.\n",
    "111: 10 руб.\n",
    "*77: 5 руб.\n",
    "**7: 3 руб.\n",
    "*00: 2 руб.\n",
    "**0: 1 руб.\n",
    "\n",
    "– любая цифра\n",
    "Дополнительное задание повышенной сложности. Теоретически рассчитать средний выигрыш (проигрыш) и сравнить с результатами моделирования"
   ]
  },
  {
   "cell_type": "code",
   "execution_count": 339,
   "metadata": {},
   "outputs": [
    {
     "name": "stdout",
     "output_type": "stream",
     "text": [
      "Вероятность выигрыша: 0.10438 Средний выигрыш составил: -0.53094 рублей\n",
      "Игра невыгодна игроку\n"
     ]
    }
   ],
   "source": [
    "import numpy as np\n",
    "# np.random.seed(None)\n",
    "trials = 100000   # Количество попыток\n",
    "successes = 0    # Количество успехов\n",
    "sum = 0\n",
    "\n",
    "for i in range(trials):\n",
    "    random_score = np.random.randint(1, 1000)    # Случайное количество очков от 1 до 999\n",
    "    if random_score == 777:\n",
    "        successes += 1\n",
    "        sum += 200\n",
    "    elif random_score == 999:\n",
    "        successes += 1\n",
    "        sum += 100\n",
    "    elif random_score == 555:\n",
    "        successes += 1\n",
    "        sum += 50\n",
    "    elif random_score == 333:\n",
    "        successes += 1\n",
    "        sum += 15\n",
    "    elif random_score == 111:\n",
    "        successes += 1\n",
    "        sum += 10\n",
    "    elif random_score % 100 == 0.77:\n",
    "        successes += 1\n",
    "        sum += 5 \n",
    "    elif random_score % 10 == 0.7:\n",
    "        successes += 1\n",
    "        sum += 3\n",
    "    elif random_score % 100 == 0:\n",
    "        successes += 1\n",
    "        sum += 2\n",
    "    elif random_score % 10 == 0:\n",
    "        successes += 1\n",
    "        sum += 1\n",
    "        \n",
    "p_monte_carlo = successes / trials    # Вероятность из моделирования\n",
    "\n",
    "win = (sum-trials) /trials #средняя сумма выигрыша, рублей\n",
    "\n",
    "print('Вероятность выигрыша:', p_monte_carlo, 'Средний выигрыш составил:', win, 'рублей')\n",
    "if win < 0:\n",
    "    print('Игра невыгодна игроку')\n",
    "else:\n",
    "    print('Так не бывает')"
   ]
  }
 ],
 "metadata": {
  "kernelspec": {
   "display_name": "Python 3",
   "language": "python",
   "name": "python3"
  },
  "language_info": {
   "codemirror_mode": {
    "name": "ipython",
    "version": 3
   },
   "file_extension": ".py",
   "mimetype": "text/x-python",
   "name": "python",
   "nbconvert_exporter": "python",
   "pygments_lexer": "ipython3",
   "version": "3.8.5"
  }
 },
 "nbformat": 4,
 "nbformat_minor": 4
}
