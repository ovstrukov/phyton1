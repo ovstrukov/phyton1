{
 "cells": [
  {
   "cell_type": "code",
   "execution_count": 34,
   "metadata": {},
   "outputs": [
    {
     "name": "stdout",
     "output_type": "stream",
     "text": [
      "Фразы равной длины\n"
     ]
    }
   ],
   "source": [
    "phrase_1 = '640Кб должно хватить для любых задач. Билл Гейтс (по легенде)'\n",
    "phrase_2 = '640Кб должно хватить для любых задач. Билл Гейтс (по легенде)'\n",
    "if  len(phrase_1) > len(phrase_2):\n",
    "    print('Фраза 1 длиннее фразы 2')\n",
    "elif len(phrase_1) < len(phrase_2):\n",
    "    print('Фраза 2 длиннее фразы 1')\n",
    "else:\n",
    "    print('Фразы равной длины')\n"
   ]
  },
  {
   "cell_type": "code",
   "execution_count": 118,
   "metadata": {},
   "outputs": [
    {
     "name": "stdout",
     "output_type": "stream",
     "text": [
      "Високосный год\n"
     ]
    }
   ],
   "source": [
    "year = 2020\n",
    "if year % 400 == 0:\n",
    "    print ('Високосный год')\n",
    "elif year % 100 == 0:\n",
    "    print ('Обычный год')\n",
    "elif year % 4 == 0:\n",
    "    print ('Високосный год')\n",
    "else:\n",
    "    print ('Обычный год')\n",
    "    \n",
    "#год, номер которого кратен 400, — високосный;\n",
    "#остальные годы, номер которых кратен 100, — невисокосные (например, годы 1700, 1800, 1900, 2100, 2200, 2300);\n",
    "#остальные годы, номер которых кратен 4, — високосные"
   ]
  },
  {
   "cell_type": "code",
   "execution_count": 104,
   "metadata": {},
   "outputs": [
    {
     "name": "stdout",
     "output_type": "stream",
     "text": [
      "Введите день: 01\n",
      "Введите месяц: январь\n",
      "Ваш знак зодиака: Козерог\n"
     ]
    }
   ],
   "source": [
    "user_input_date = int (input ('Введите день: '))\n",
    "user_input_month = str (input ('Введите месяц: '))\n",
    "if (user_input_date >= 21 and (user_input_month == 'март' or user_input_month == 'Март')) or (user_input_date <= 20 and (user_input_month == 'апрель' or user_input_month == 'Апрель')):\n",
    "    print ('Ваш знак зодиака: Овен')\n",
    "elif (user_input_date >= 21 and (user_input_month == 'апрель' or user_input_month == 'Апрель')) or (user_input_date <= 21 and (user_input_month == 'май' or user_input_month == 'Май')):\n",
    "    print ('Ваш знак зодиака: Телец')\n",
    "elif (user_input_date >= 22 and (user_input_month == 'май' or user_input_month == 'Май')) or (user_input_date <= 21 and (user_input_month == 'июнь' or user_input_month == 'Июнь')):\n",
    "    print ('Ваш знак зодиака: Близнецы') \n",
    "elif (user_input_date >= 22 and (user_input_month == 'июнь' or user_input_month == 'Июнь')) or (user_input_date <= 22 and (user_input_month == 'июль' or user_input_month == 'Июль')):\n",
    "    print ('Ваш знак зодиака: Рак')\n",
    "elif (user_input_date >= 23 and (user_input_month == 'июль' or user_input_month == 'Июль')) or (user_input_date <= 22 and (user_input_month == 'август' or user_input_month == 'Август')):\n",
    "    print ('Ваш знак зодиака: Лев')  \n",
    "elif (user_input_date >= 23 and (user_input_month == 'август' or user_input_month == 'Август')) or (user_input_date <= 22 and (user_input_month == 'сентябрь' or user_input_month == 'Сентябрь')):\n",
    "    print ('Ваш знак зодиака: Дева')\n",
    "elif (user_input_date >= 23 and (user_input_month == 'сентябрь' or user_input_month == 'Сентябрь')) or (user_input_date <= 22 and (user_input_month == 'октябрь' or user_input_month == 'Октябрь')):\n",
    "    print ('Ваш знак зодиака: Весы')\n",
    "elif (user_input_date >= 23 and (user_input_month == 'октябрь' or user_input_month == 'Октябрь')) or (user_input_date <= 22 and (user_input_month == 'ноябрь' or user_input_month == 'Ноябрь')):\n",
    "    print ('Ваш знак зодиака: Скорпион')\n",
    "elif (user_input_date >= 23 and (user_input_month == 'ноябрь' or user_input_month == 'Ноябрь')) or (user_input_date <= 21 and (user_input_month == 'декабрь' or user_input_month == 'Декабрь')):\n",
    "    print ('Ваш знак зодиака: Стрелец')\n",
    "elif (user_input_date >= 22 and (user_input_month == 'декабрь' or user_input_month == 'Декабрь')) or (user_input_date <= 20 and (user_input_month == 'январь' or user_input_month == 'Январь')):\n",
    "    print ('Ваш знак зодиака: Козерог')\n",
    "elif (user_input_date >= 21 and (user_input_month == 'январь' or user_input_month == 'Январь')) or (user_input_date <= 19 and (user_input_month == 'февраль' or user_input_month == 'Февраль')):\n",
    "    print ('Ваш знак зодиака: Водолей')\n",
    "elif (user_input_date >= 20 and (user_input_month == 'февраль' or user_input_month == 'Февраль')) or (user_input_date <= 19 and (user_input_month == 'март' or user_input_month == 'Март')):\n",
    "    print ('Ваш знак зодиака: Рыбы')"
   ]
  },
  {
   "cell_type": "code",
   "execution_count": 116,
   "metadata": {},
   "outputs": [
    {
     "name": "stdout",
     "output_type": "stream",
     "text": [
      "Стандартная коробка №3\n"
     ]
    }
   ],
   "source": [
    "width = 10\n",
    "length = 55\n",
    "height = 5\n",
    "if width < 15 and length < 15 and height < 15:\n",
    "    print ('Коробка №1')\n",
    "elif (width > 15 and width < 50) or (length > 15 and length < 50) or (height > 15 and height < 50):\n",
    "    print ('Коробка №2')\n",
    "elif length > 200:\n",
    "    print ('Упаковка для лыж')\n",
    "else:\n",
    "    print ('Стандартная коробка №3')"
   ]
  },
  {
   "cell_type": "code",
   "execution_count": 20,
   "metadata": {},
   "outputs": [
    {
     "name": "stdout",
     "output_type": "stream",
     "text": [
      "Счастливый билет\n"
     ]
    }
   ],
   "source": [
    "number = 123321\n",
    "# число в строку\n",
    "str_number = str(number)\n",
    "#делаем выборку из строк\n",
    "first_three = str_number[0:3]\n",
    "last_three = str_number[3:]\n",
    "# строку с числом в список строк с цифрами\n",
    "list_str_first_three = list(first_three)\n",
    "list_str_last_three = list(last_three)\n",
    "# преобразовываем каждый элемент полученного\n",
    "# списка строк с цифрами в список целых чисел\n",
    "list_number_first_three = map (int, list_str_first_three)\n",
    "list_number_last_three = map (int, list_str_last_three)\n",
    "#суммирование\n",
    "s_first = sum (list_number_first_three)\n",
    "s_last = sum (list_number_last_three)\n",
    "if s_last == s_first:\n",
    "    print ('Счастливый билет')\n",
    "else:\n",
    "    print ('Несчастливый билет')\n"
   ]
  },
  {
   "cell_type": "code",
   "execution_count": null,
   "metadata": {},
   "outputs": [],
   "source": []
  }
 ],
 "metadata": {
  "kernelspec": {
   "display_name": "Python 3",
   "language": "python",
   "name": "python3"
  },
  "language_info": {
   "codemirror_mode": {
    "name": "ipython",
    "version": 3
   },
   "file_extension": ".py",
   "mimetype": "text/x-python",
   "name": "python",
   "nbconvert_exporter": "python",
   "pygments_lexer": "ipython3",
   "version": "3.8.5"
  }
 },
 "nbformat": 4,
 "nbformat_minor": 4
}
