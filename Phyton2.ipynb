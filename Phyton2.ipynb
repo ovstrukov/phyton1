{
 "cells": [
  {
   "cell_type": "code",
   "execution_count": 64,
   "metadata": {},
   "outputs": [
    {
     "name": "stdout",
     "output_type": "stream",
     "text": [
      "st\n"
     ]
    }
   ],
   "source": [
    "#Выводит: если четное, то две средних буквы, если нечетное, то среднюю букву\n",
    "word = 'testrq'\n",
    "x = len(word)\n",
    "#середина минус 1 символ\n",
    "y=x/2-1\n",
    "# если делится нацело на 2, то четное\n",
    "if x % 2 ==0:\n",
    "    print(word[int(y):int(y)+2])\n",
    "else:\n",
    "    print(word[int(x/2)])"
   ]
  },
  {
   "cell_type": "code",
   "execution_count": 79,
   "metadata": {},
   "outputs": [
    {
     "name": "stdout",
     "output_type": "stream",
     "text": [
      "Введите число: 1\n",
      "Введите число: 2\n",
      "Введите число: 3\n",
      "Введите число: 0\n",
      "Результат: 6\n"
     ]
    }
   ],
   "source": [
    "#запрашивает у пользователя числа и после первого нуля выводит сумму\n",
    "x=int(input('Введите число: '))\n",
    "x_list =[x]\n",
    "while x!=0:\n",
    "    x=int(input('Введите число: '))\n",
    "    x_list.append (x)\n",
    "print('Результат:', sum(x_list))\n"
   ]
  },
  {
   "cell_type": "code",
   "execution_count": 10,
   "metadata": {},
   "outputs": [
    {
     "name": "stdout",
     "output_type": "stream",
     "text": [
      "Идеальные пары:  [('Антон', 'Алина'), ('Борис', 'Вика'), ('Вася', 'Елизавета'), ('Григорий', 'Юля')]\n"
     ]
    }
   ],
   "source": [
    "#Задание 3 сортируем по алфавиту, совмещаем списки, если нет пары, то не совмещаем\n",
    "boys = ['Борис', 'Антон', 'Вася', 'Григорий']\n",
    "girls = ['Юля', 'Вика', 'Алина', 'Елизавета']\n",
    "if len(boys)!=len(girls):\n",
    "    print('Внимание, кто-то может остаться без пары!')    \n",
    "else:\n",
    "    print('Идеальные пары: ', list(zip(sorted(boys),sorted(girls))))"
   ]
  },
  {
   "cell_type": "code",
   "execution_count": 81,
   "metadata": {},
   "outputs": [
    {
     "name": "stdout",
     "output_type": "stream",
     "text": [
      "Средняя температура в странах:\n",
      "Thailand 23.85714285714285\n",
      "Germany 13.799999999999999\n",
      "Russia 3.714285714285717\n",
      "Poland 11.999999999999996\n"
     ]
    }
   ],
   "source": [
    "#Задание 4 У нас есть список, содержащий информацию о среднедневной температуре в Фаренгейтах за произвольный период по странам (структура данных в примере). Необходимо написать код, который рассчитает среднюю температуру за период в Цельсиях(!) для каждой страны.\n",
    "countries_temperature = [\n",
    "    ['Thailand', [75.2, 77, 78.8, 73.4, 68, 75.2, 77]],\n",
    "    ['Germany', [57.2, 55.4, 59, 59, 53.6]],\n",
    "    ['Russia', [35.6, 37.4, 39.2, 41, 42.8, 39.2, 35.6]],\n",
    "    ['Poland', [50, 50, 53.6, 57.2, 55.4, 55.4]]\n",
    "]\n",
    "#Для перевода температуры из шкалы Фаренгейта в шкалу Цельсия нужно от исходного числа отнять 32 и умножить результат на 5/9\n",
    "#(sum(countries_temperature[0][1])/len(countries_temperature[0][1]) - среднее в фаренгейтах для первого значения в списке\n",
    "print('Средняя температура в странах:')\n",
    "n=0\n",
    "while n<len(countries_temperature):\n",
    "    print(countries_temperature[n][0],((sum(countries_temperature[n][1])/len(countries_temperature[n][1]))-32)*5/9)\n",
    "    n=n+1 \n",
    "  "
   ]
  },
  {
   "cell_type": "code",
   "execution_count": null,
   "metadata": {},
   "outputs": [],
   "source": []
  }
 ],
 "metadata": {
  "kernelspec": {
   "display_name": "Python 3",
   "language": "python",
   "name": "python3"
  },
  "language_info": {
   "codemirror_mode": {
    "name": "ipython",
    "version": 3
   },
   "file_extension": ".py",
   "mimetype": "text/x-python",
   "name": "python",
   "nbconvert_exporter": "python",
   "pygments_lexer": "ipython3",
   "version": "3.8.5"
  }
 },
 "nbformat": 4,
 "nbformat_minor": 4
}
