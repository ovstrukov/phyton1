{
 "cells": [
  {
   "cell_type": "code",
   "execution_count": 64,
   "metadata": {},
   "outputs": [
    {
     "name": "stdout",
     "output_type": "stream",
     "text": [
      "st\n"
     ]
    }
   ],
   "source": [
    "#Выводит: если четное, то две средних буквы, если нечетное, то среднюю букву\n",
    "word = 'testrq'\n",
    "x = len(word)\n",
    "#середина минус 1 символ\n",
    "y=x/2-1\n",
    "# если делится нацело на 2, то четное\n",
    "if x % 2 ==0:\n",
    "    print(word[int(y):int(y)+2])\n",
    "else:\n",
    "    print(word[int(x/2)])"
   ]
  },
  {
   "cell_type": "code",
   "execution_count": 79,
   "metadata": {},
   "outputs": [
    {
     "name": "stdout",
     "output_type": "stream",
     "text": [
      "Введите число: 1\n",
      "Введите число: 2\n",
      "Введите число: 3\n",
      "Введите число: 0\n",
      "Результат: 6\n"
     ]
    }
   ],
   "source": [
    "#запрашивает у пользователя числа и после первого нуля выводит сумму\n",
    "x=int(input('Введите число: '))\n",
    "x_list =[x]\n",
    "while x!=0:\n",
    "    x=int(input('Введите число: '))\n",
    "    x_list.append (x)\n",
    "print('Результат:', sum(x_list))\n"
   ]
  },
  {
   "cell_type": "code",
   "execution_count": null,
   "metadata": {},
   "outputs": [],
   "source": []
  }
 ],
 "metadata": {
  "kernelspec": {
   "display_name": "Python 3",
   "language": "python",
   "name": "python3"
  }
 },
 "nbformat": 4,
 "nbformat_minor": 4
}
