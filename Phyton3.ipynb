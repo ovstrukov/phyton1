{
 "cells": [
  {
   "cell_type": "code",
   "execution_count": 111,
   "metadata": {},
   "outputs": [
    {
     "name": "stdout",
     "output_type": "stream",
     "text": [
      "Результат:  {98, 35, 15, 213, 54, 119}\n"
     ]
    }
   ],
   "source": [
    "#Задание1 Дана переменная, в которой хранится словарь, содержащий гео-метки для каждого пользователя (пример структуры данных приведен ниже). Вам необходимо написать программу, которая выведет на экран множество уникальных гео-меток всех пользователей.\n",
    "ids = {'user1': [213, 213, 213, 15, 213], \n",
    "       'user2': [54, 54, 119, 119, 119], \n",
    "       'user3': [213, 98, 98, 35]}\n",
    "for geo in ids.values():\n",
    "    x+=geo\n",
    "print('Результат: ', set(x))\n",
    "    "
   ]
  },
  {
   "cell_type": "code",
   "execution_count": 193,
   "metadata": {},
   "outputs": [
    {
     "name": "stdout",
     "output_type": "stream",
     "text": [
      "Результат:\n",
      "Поисковых запросов, содержащих 2 слов(а): 42.86 %\n",
      "Поисковых запросов, содержащих 2 слов(а): 57.14 %\n"
     ]
    }
   ],
   "source": [
    "#Задание2 Дана переменная, в которой хранится список поисковых запросов пользователя (пример структуры данных приведен ниже). Вам необходимо написать программу, которая выведет на экран распределение количества слов в запросах в требуемом виде.\n",
    "queries = [\n",
    "    'смотреть сериалы онлайн',\n",
    "    'новости спорта',\n",
    "    'афиша кино',\n",
    "    'курс доллара',\n",
    "    'сериалы этим летом',\n",
    "    'курс по питону',\n",
    "    'сериалы про спорт',\n",
    "]\n",
    "#print(queries[0].split(' ')) -преобразование нулевого поискового элемента из списка в спискок слов\n",
    "#len(queries[0].split(' ')) -подсчет количества элементов списка (количества слов нулевого запроса)\n",
    "#len(queries) - количество поисковых запросов\n",
    "n_3=0\n",
    "n_2=0\n",
    "for request in queries:\n",
    "    count=len(request.split(' '))\n",
    "    if count ==3:\n",
    "        n_3=n_3+1\n",
    "    else: \n",
    "        n_2=n_2+1\n",
    "print('Результат:')\n",
    "print('Поисковых запросов, содержащих 2 слов(а):', round(n_2/len(queries)*100,2),'%')\n",
    "print('Поисковых запросов, содержащих 2 слов(а):', round(n_3/len(queries)*100,2),'%')"
   ]
  },
  {
   "cell_type": "code",
   "execution_count": 371,
   "metadata": {},
   "outputs": [
    {
     "data": {
      "text/plain": [
       "{'vk': {'ROI': 5.1, 'revenue': 103, 'cost': 98},\n",
       " 'yandex': {'ROI': 16.99, 'revenue': 179, 'cost': 153},\n",
       " 'facebook': {'ROI': -6.36, 'revenue': 103, 'cost': 110},\n",
       " 'adwords': {'ROI': 2.94, 'revenue': 35, 'cost': 34},\n",
       " 'twitter': {'ROI': -54.17, 'revenue': 11, 'cost': 24}}"
      ]
     },
     "execution_count": 371,
     "metadata": {},
     "output_type": "execute_result"
    }
   ],
   "source": [
    "#Дана переменная, в которой хранится информация о затратах и доходе рекламных кампаний по различным источникам. Необходимо дополнить исходную структуру показателем ROI, который рассчитаем по формуле: (revenue / cost - 1) * 100\n",
    "results = {\n",
    "    'vk': {'revenue': 103, 'cost': 98},\n",
    "    'yandex': {'revenue': 179, 'cost': 153},\n",
    "    'facebook': {'revenue': 103, 'cost': 110},\n",
    "    'adwords': {'revenue': 35, 'cost': 34},\n",
    "    'twitter': {'revenue': 11, 'cost': 24},\n",
    "}\n",
    "#ROI=(revenue / cost - 1) * 100\n",
    "new_dict={}\n",
    "results_copy = results.copy()\n",
    "for res in results_copy.items():\n",
    "#    print(round((res[1]['revenue']/res[1]['cost']-1)*100,2))-Находим ROI для каждого значения\n",
    "    q=round((res[1]['revenue']/res[1]['cost']-1)*100,2)\n",
    "#    print('ROI', q)\n",
    "#Создаем новый словарь, в который помещаем значение ROI и остальные значения из старого словаря\n",
    "    new_dict = {res[0]:{'ROI': q, 'revenue':res[1]['revenue'], 'cost':res[1]['cost']}}\n",
    "#    results.setdefault(new_dict)\n",
    "#    print(new_dict)\n",
    "#Обновляем старый словарь новыми значениями\n",
    "    results.update(new_dict)\n",
    "#results['ROI:']=q\n",
    "#    results = (ROI:q)\n",
    "    \n",
    "results"
   ]
  },
  {
   "cell_type": "code",
   "execution_count": 397,
   "metadata": {},
   "outputs": [
    {
     "name": "stdout",
     "output_type": "stream",
     "text": [
      "Результат: Максимальный объем продаж на рекламном канале: vk\n"
     ]
    }
   ],
   "source": [
    "#Задача4 Дана переменная, в которой хранится статистика рекламных каналов по объемам продаж (пример структуры данных приведен ниже). Напишите программу, которая возвращает название канала с максимальным объемом продаж.\n",
    "stats = {'facebook': 55, 'yandex': 115, 'vk': 120, 'google': 99, 'email': 42, 'ok': 98}\n",
    "#print(max(stats.values()))\n",
    "#for channels in stats.items():\n",
    "for channels, sales in stats.items():\n",
    "    if sales == max(stats.values()):\n",
    "        print('Результат: Максимальный объем продаж на рекламном канале:',channels)"
   ]
  }
 ],
 "metadata": {
  "kernelspec": {
   "display_name": "Python 3",
   "language": "python",
   "name": "python3"
  },
  "language_info": {
   "codemirror_mode": {
    "name": "ipython",
    "version": 3
   },
   "file_extension": ".py",
   "mimetype": "text/x-python",
   "name": "python",
   "nbconvert_exporter": "python",
   "pygments_lexer": "ipython3",
   "version": "3.8.5"
  }
 },
 "nbformat": 4,
 "nbformat_minor": 4
}
