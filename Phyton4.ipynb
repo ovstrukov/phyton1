{
 "cells": [
  {
   "cell_type": "code",
   "execution_count": 13,
   "metadata": {},
   "outputs": [
    {
     "data": {
      "text/plain": [
       "dict_keys(['1', '2', '3'])"
      ]
     },
     "execution_count": 13,
     "metadata": {},
     "output_type": "execute_result"
    }
   ],
   "source": [
    "documents = [\n",
    " {'type': 'passport', 'number': '2207 876234', 'name': 'Василий Гупкин'},\n",
    " {'type': 'invoice', 'number': '11-2', 'name': 'Геннадий Покемонов'},\n",
    " {'type': 'insurance', 'number': '10006', 'name': 'Аристарх Павлов'}\n",
    "]\n",
    "directories = {\n",
    " '1': ['2207 876234', '11-2'],\n",
    " '2': ['10006'],\n",
    " '3': []\n",
    "}\n",
    "directories['1'][1]\n",
    "documents[0]['type']\n",
    "directories.keys()"
   ]
  },
  {
   "cell_type": "code",
   "execution_count": 35,
   "metadata": {},
   "outputs": [
    {
     "name": "stdout",
     "output_type": "stream",
     "text": [
      "Аристарх Павлов\n"
     ]
    }
   ],
   "source": [
    "#Пункт 1. Пользователь по команде “p” может узнать владельца документа по его номеру\n",
    "\n",
    "def owner(user_type_doc, user_number_doc):\n",
    "#    user_type_doc = str (input ('Введите команду: '))\n",
    "#    user_number_doc = str (input ('Введите номер документа: '))\n",
    "    if user_type_doc == ('p'):\n",
    "#перебираем словари(number) внутри списка documents\n",
    "        for number in documents:\n",
    "#для словаря с указанным ключом ['number'] делаем сравнение с введенным пользователем user_number_doc, если равно, то выводим соответствующее значение словаря с ключом 'name'\n",
    "            if number['number'] == user_number_doc:\n",
    "                return print(number['name'])\n",
    "        else:\n",
    "            print('Документ не найден в базе')\n",
    "owner('p', '10006') "
   ]
  },
  {
   "cell_type": "code",
   "execution_count": 38,
   "metadata": {},
   "outputs": [
    {
     "name": "stdout",
     "output_type": "stream",
     "text": [
      "Документ хранится на полке:  1\n"
     ]
    }
   ],
   "source": [
    "#Пункт 2. Пользователь по команде “s” может по номеру документа узнать на какой полке он хранится\n",
    "\n",
    "def folder(user_type_doc, user_number_doc):\n",
    "#    user_type_doc = str (input ('Введите команду: '))\n",
    "#    user_number_doc = str (input ('Введите номер документа: '))\n",
    "    if user_type_doc == ('s'):\n",
    "#перебираем ключи и значения с словаре\n",
    "        for keys, number in directories.items():\n",
    "#перебираем конечные значения списка значений словаря\n",
    "            for item in number:\n",
    "#если конечное значение равно введенному пользователем, то печать ключа\n",
    "                if item == user_number_doc:\n",
    "                    return print('Документ хранится на полке: ', keys)\n",
    "            else:\n",
    "                print('Документ не найден в базе')\n",
    "folder('s','11-2') "
   ]
  },
  {
   "cell_type": "code",
   "execution_count": 19,
   "metadata": {},
   "outputs": [
    {
     "name": "stdout",
     "output_type": "stream",
     "text": [
      "{'№': '2207 876234', 'тип': 'passport', 'владелец': 'Василий Гупкин', 'полка хранения': '1'}\n",
      "{'№': '11-2', 'тип': 'invoice', 'владелец': 'Геннадий Покемонов', 'полка хранения': '1'}\n",
      "{'№': '10006', 'тип': 'insurance', 'владелец': 'Аристарх Павлов', 'полка хранения': '2'}\n"
     ]
    }
   ],
   "source": [
    "#Пункт 3. Пользователь по команде “l” может увидеть полную информацию по всем документам\n",
    "def all_info(user_type_doc):\n",
    "#    user_type_doc = str (input ('Введите команду: '))    \n",
    "    if user_type_doc == ('l'):\n",
    "        for number in documents:\n",
    "            for keys, values in directories.items():\n",
    "                for item in values:\n",
    "                    if item == number['number']:\n",
    "                        new_dict = {'№':number['number'],'тип':number['type'], 'владелец':number['name'], 'полка хранения':keys}\n",
    "                        print (new_dict)\n",
    "#Почему когда указываю return print (new_dict) или return new_dict остается только первое значение нового словаря?\n",
    "all_info('l') "
   ]
  },
  {
   "cell_type": "code",
   "execution_count": 16,
   "metadata": {},
   "outputs": [
    {
     "name": "stdout",
     "output_type": "stream",
     "text": [
      "Введите команду: as\n",
      "Введите номер полки: 2\n",
      "Такая полка уже существует. Текущий перечень полок: ['1', '2', '3']\n"
     ]
    }
   ],
   "source": [
    "#Пункт 4. Пользователь по команде “as” может добавить новую полку\n",
    "#def new_fold():\n",
    "user_type_doc = str (input ('Введите команду: '))    \n",
    "user_number_folder = str (input ('Введите номер полки: '))\n",
    "if user_type_doc == ('as'):\n",
    "    if user_number_folder in directories.keys():\n",
    "        print ('Такая полка уже существует. Текущий перечень полок:', list(directories.keys()))\n",
    "    else:\n",
    "        directories[user_number_folder] = {}\n",
    "        print ('Полка добавлена. Текущий перечень полок:', list(directories.keys()))\n",
    "        \n",
    "#Когда из этого кода делаю функцию, то почему то ничего не происходит при запуске            "
   ]
  },
  {
   "cell_type": "code",
   "execution_count": 17,
   "metadata": {},
   "outputs": [
    {
     "name": "stdout",
     "output_type": "stream",
     "text": [
      "Введите команду: ds\n",
      "Введите номер полки: 3\n",
      "На полке есть документы, удалите их перед удалением полки. Текущий перечень полок: ['1', '2', '3']\n"
     ]
    }
   ],
   "source": [
    "#Пункт 5. Пользователь по команде “ds” может удалить существующую полку из данных (только если она пустая)\n",
    "user_type_doc = str (input ('Введите команду: '))    \n",
    "user_number_folder = str (input ('Введите номер полки: '))\n",
    "if user_type_doc == ('ds'):\n",
    "    if user_number_folder in directories.keys() and directories[user_number_folder] != None:\n",
    "        print ('На полке есть документы, удалите их перед удалением полки. Текущий перечень полок:', list(directories.keys()))\n",
    "    elif user_number_folder in directories.keys() and directories[user_number_folder] == None:\n",
    "        del(directories[user_number_folder])\n",
    "        print ('Полка удалена. Текущий перечень полок:', list(directories.keys()))\n",
    "    else:\n",
    "        print ('Такой полки не существует. Текущий перечень полок: ', list(directories.keys()))\n",
    "        \n",
    "#Когда из этого кода делаю функцию, то почему то ничего не происходит при запуске \n",
    "#Нулевую полку почему-то определяет как заполненную, не пойму почему"
   ]
  },
  {
   "cell_type": "code",
   "execution_count": 50,
   "metadata": {},
   "outputs": [
    {
     "name": "stdout",
     "output_type": "stream",
     "text": [
      "Введите команду: q\n",
      "Выход\n"
     ]
    }
   ],
   "source": [
    "#def main():\n",
    "user_type_doc = str (input ('Введите команду: '))\n",
    "if user_type_doc == 'q':\n",
    "    print('Выход')\n",
    "elif user_type_doc == ('p'):\n",
    "    user_number_doc = str (input ('Введите номер документа: '))\n",
    "    print(owner(user_type_doc, user_number_doc))\n",
    "elif user_type_doc == ('s'):\n",
    "    user_number_doc = str (input ('Введите номер документа: '))\n",
    "    print(folder(user_type_doc, user_number_doc))\n",
    "elif user_type_doc == ('as'):\n",
    "    user_number_folder = str (input ('Введите номер полки: '))\n",
    "    if user_type_doc == ('as'):\n",
    "        if user_number_folder in directories.keys():\n",
    "            print ('Такая полка уже существует. Текущий перечень полок:', list(directories.keys()))\n",
    "        else:\n",
    "            directories[user_number_folder] = {}\n",
    "            print ('Полка добавлена. Текущий перечень полок:', list(directories.keys()))\n",
    "elif user_type_doc == ('ds'):\n",
    "    user_number_folder = str (input ('Введите номер полки: '))\n",
    "    if user_type_doc == ('ds'):\n",
    "        if user_number_folder in directories.keys() and directories[user_number_folder] != None:\n",
    "            print ('На полке есть документы, удалите их перед удалением полки. Текущий перечень полок:', list(directories.keys()))\n",
    "        elif user_number_folder in directories.keys() and directories[user_number_folder] == None:\n",
    "            del(directories[user_number_folder])\n",
    "            print ('Полка удалена. Текущий перечень полок:', list(directories.keys()))\n",
    "        else:\n",
    "            print ('Такой полки не существует. Текущий перечень полок: ', list(directories.keys()))\n",
    "elif user_type_doc == ('l'):\n",
    "    print(all_info(user_type_doc))\n",
    "\n",
    "#Когда из этого кода делаю функцию, то почему то ничего не происходит при запуске "
   ]
  }
 ],
 "metadata": {
  "kernelspec": {
   "display_name": "Python 3",
   "language": "python",
   "name": "python3"
  },
  "language_info": {
   "codemirror_mode": {
    "name": "ipython",
    "version": 3
   },
   "file_extension": ".py",
   "mimetype": "text/x-python",
   "name": "python",
   "nbconvert_exporter": "python",
   "pygments_lexer": "ipython3",
   "version": "3.8.5"
  }
 },
 "nbformat": 4,
 "nbformat_minor": 4
}
