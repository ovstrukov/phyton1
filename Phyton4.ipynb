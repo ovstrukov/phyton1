{
 "cells": [
  {
   "cell_type": "code",
   "execution_count": 248,
   "metadata": {},
   "outputs": [
    {
     "data": {
      "text/plain": [
       "dict_keys(['1', '2', '3'])"
      ]
     },
     "execution_count": 248,
     "metadata": {},
     "output_type": "execute_result"
    }
   ],
   "source": [
    "documents = [\n",
    " {'type': 'passport', 'number': '2207 876234', 'name': 'Василий Гупкин'},\n",
    " {'type': 'invoice', 'number': '11-2', 'name': 'Геннадий Покемонов'},\n",
    " {'type': 'insurance', 'number': '10006', 'name': 'Аристарх Павлов'}\n",
    "]\n",
    "directories = {\n",
    " '1': ['2207 876234', '11-2'],\n",
    " '2': ['10006'],\n",
    " '3': []\n",
    "}\n",
    "directories['1'][1]\n",
    "documents[0]['type']\n",
    "directories.keys()"
   ]
  },
  {
   "cell_type": "code",
   "execution_count": 229,
   "metadata": {},
   "outputs": [
    {
     "name": "stdout",
     "output_type": "stream",
     "text": [
      "Введите команду: p\n",
      "Введите номер документа: 10006\n",
      "Аристарх Павлов\n"
     ]
    }
   ],
   "source": [
    "#Пункт 1. Пользователь по команде “p” может узнать владельца документа по его номеру\n",
    "\n",
    "def owner():\n",
    "    user_type_doc = str (input ('Введите команду: '))\n",
    "    user_number_doc = str (input ('Введите номер документа: '))\n",
    "    if user_type_doc == ('p'):\n",
    "#перебираем словари(number) внутри списка documents\n",
    "        for number in documents:\n",
    "#для словаря с указанным ключом ['number'] делаем сравнение с введенным пользователем user_number_doc, если равно, то выводим соответствующее значение словаря с ключом 'name'\n",
    "            if number['number'] == user_number_doc:\n",
    "                return print(number['name'])\n",
    "        else:\n",
    "            print('Документ не найден в базе')\n",
    "owner() "
   ]
  },
  {
   "cell_type": "code",
   "execution_count": 112,
   "metadata": {},
   "outputs": [
    {
     "name": "stdout",
     "output_type": "stream",
     "text": [
      "Введите команду: s\n",
      "Введите номер документа: 11-2\n",
      "Документ хранится на полке:  1\n"
     ]
    }
   ],
   "source": [
    "#Пункт 2. Пользователь по команде “s” может по номеру документа узнать на какой полке он хранится\n",
    "\n",
    "def folder():\n",
    "    user_type_doc = str (input ('Введите команду: '))\n",
    "    user_number_doc = str (input ('Введите номер документа: '))\n",
    "    if user_type_doc == ('s'):\n",
    "#перебираем ключи и значения с словаре\n",
    "        for keys, number in directories.items():\n",
    "#перебираем конечные значения списка значений словаря\n",
    "            for item in number:\n",
    "#если конечное значение равно введенному пользователем, то печать ключа\n",
    "                if item == user_number_doc:\n",
    "                    return print('Документ хранится на полке: ', keys)\n",
    "            else:\n",
    "                print('Документ не найден в базе')\n",
    "folder() "
   ]
  },
  {
   "cell_type": "code",
   "execution_count": 218,
   "metadata": {},
   "outputs": [
    {
     "name": "stdout",
     "output_type": "stream",
     "text": [
      "Введите команду: l\n",
      "{'№': '2207 876234', 'тип': 'passport', 'владелец': 'Василий Гупкин', 'полка хранения': '1'}\n",
      "{'№': '11-2', 'тип': 'invoice', 'владелец': 'Геннадий Покемонов', 'полка хранения': '1'}\n",
      "{'№': '10006', 'тип': 'insurance', 'владелец': 'Аристарх Павлов', 'полка хранения': '2'}\n"
     ]
    }
   ],
   "source": [
    "#Пункт 3. Пользователь по команде “l” может увидеть полную информацию по всем документам\n",
    "def all_info():\n",
    "    user_type_doc = str (input ('Введите команду: '))    \n",
    "    if user_type_doc == ('l'):\n",
    "        for number in documents:\n",
    "            for keys, values in directories.items():\n",
    "                for item in values:\n",
    "                    if item == number['number']:\n",
    "                        new_dict = {'№':number['number'],'тип':number['type'], 'владелец':number['name'], 'полка хранения':keys}\n",
    "                        print (new_dict)\n",
    "#Почему когда указываю return print (new_dict) или return new_dict остается только первое значение нового словаря?\n",
    "all_info() "
   ]
  },
  {
   "cell_type": "code",
   "execution_count": 256,
   "metadata": {},
   "outputs": [
    {
     "name": "stdout",
     "output_type": "stream",
     "text": [
      "Введите команду: as\n",
      "Введите номер полки: 4\n",
      "Полка добавлена. Текущий перечень полок: ['1', '2', '3', '4']\n"
     ]
    }
   ],
   "source": [
    "#Пункт 4. Пользователь по команде “as” может добавить новую полку\n",
    "#def new_fold():\n",
    "user_type_doc = str (input ('Введите команду: '))    \n",
    "user_number_folder = str (input ('Введите номер полки: '))\n",
    "if user_type_doc == ('as'):\n",
    "    if user_number_folder in directories.keys():\n",
    "        print ('Такая полка уже существует. Текущий перечень полок:', list(directories.keys()))\n",
    "    else:\n",
    "        directories[user_number_folder] = {}\n",
    "        print ('Полка добавлена. Текущий перечень полок:', list(directories.keys()))\n",
    "            "
   ]
  },
  {
   "cell_type": "code",
   "execution_count": 263,
   "metadata": {},
   "outputs": [
    {
     "name": "stdout",
     "output_type": "stream",
     "text": [
      "Введите команду: ds\n",
      "Введите номер полки: 4\n",
      "На полке есть документы, удалите их перед удалением полки. Текущий перечень полок: ['1', '2', '3', '4']\n"
     ]
    }
   ],
   "source": [
    "#Пункт 5. Пользователь по команде “ds” может удалить существующую полку из данных (только если она пустая)\n",
    "user_type_doc = str (input ('Введите команду: '))    \n",
    "user_number_folder = str (input ('Введите номер полки: '))\n",
    "if user_type_doc == ('ds'):\n",
    "    if user_number_folder in directories.keys() and directories[user_number_folder] != None:\n",
    "        print ('На полке есть документы, удалите их перед удалением полки. Текущий перечень полок:', list(directories.keys()))\n",
    "    elif user_number_folder in directories.keys() and directories[user_number_folder] == None:\n",
    "        del(directories[user_number_folder])\n",
    "        print ('Полка удалена. Текущий перечень полок:', list(directories.keys()))\n",
    "    else:\n",
    "        print ('Такой полки не существует. Текущий перечень полок: ', list(directories.keys()))"
   ]
  }
 ],
 "metadata": {
  "kernelspec": {
   "display_name": "Python 3",
   "language": "python",
   "name": "python3"
  },
  "language_info": {
   "codemirror_mode": {
    "name": "ipython",
    "version": 3
   },
   "file_extension": ".py",
   "mimetype": "text/x-python",
   "name": "python",
   "nbconvert_exporter": "python",
   "pygments_lexer": "ipython3",
   "version": "3.8.5"
  }
 },
 "nbformat": 4,
 "nbformat_minor": 4
}
