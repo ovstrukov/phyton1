{
 "cells": [
  {
   "cell_type": "code",
   "execution_count": 104,
   "metadata": {},
   "outputs": [
    {
     "name": "stdout",
     "output_type": "stream",
     "text": [
      "('user_id', 'category')\n",
      "('1840e0b9d4', 'РџСЂРѕРґСѓРєС‚С‹')\n",
      "('4e4f90fcfb', 'Р\\xadР»РµРєС‚СЂРѕРЅРёРєР°')\n",
      "('afea8d72fc', 'Р\\xadР»РµРєС‚СЂРѕРЅРёРєР°')\n",
      "('373a6055fe', 'Р‘С‹С‚РѕРІР°СЏ С‚РµС…РЅРёРєР°')\n",
      "('9b2ab046f3', 'Р\\xadР»РµРєС‚СЂРѕРЅРёРєР°')\n"
     ]
    }
   ],
   "source": [
    "#Задача 1. Переведите содержимое файла purchase_log.txt в словарь purchases вида:\n",
    "#{‘1840e0b9d4’: ‘Продукты’, …}\n",
    "import json\n",
    "with open('purchase_log.txt','r') as f:\n",
    "    content = f.readlines()\n",
    "#content[1]\n",
    "#json.loads(content[1])\n",
    "new_dict = {}\n",
    "purchases = {}\n",
    "for item in content:\n",
    "# new_dict - словарь из всех значений из файла\n",
    "    new_dict = json.loads(item)\n",
    "#purchases - новый словарь(id-категория покупки) сформированный из исходного\n",
    "    purchases[new_dict['user_id']] =  new_dict['category']\n",
    "i = 0\n",
    "for line in purchases.items():\n",
    "    print(line)\n",
    "    i += 1\n",
    "    if i > 5:\n",
    "        break"
   ]
  },
  {
   "cell_type": "code",
   "execution_count": 127,
   "metadata": {},
   "outputs": [
    {
     "name": "stdout",
     "output_type": "stream",
     "text": [
      "('user_id,source', 'category')\n",
      "('1840e0b9d4,other', 'РџСЂРѕРґСѓРєС‚С‹')\n",
      "('4e4f90fcfb,context', 'Р\\xadР»РµРєС‚СЂРѕРЅРёРєР°')\n",
      "('afea8d72fc,other', 'Р\\xadР»РµРєС‚СЂРѕРЅРёРєР°')\n",
      "('2824221f38,email', 'РџСЂРѕРґСѓРєС‚С‹')\n"
     ]
    },
    {
     "ename": "KeyboardInterrupt",
     "evalue": "",
     "output_type": "error",
     "traceback": [
      "\u001b[1;31m---------------------------------------------------------------------------\u001b[0m",
      "\u001b[1;31mKeyboardInterrupt\u001b[0m                         Traceback (most recent call last)",
      "\u001b[1;32m<ipython-input-127-0e32009d790c>\u001b[0m in \u001b[0;36m<module>\u001b[1;34m\u001b[0m\n\u001b[0;32m     14\u001b[0m         \u001b[0mi\u001b[0m \u001b[1;33m=\u001b[0m \u001b[1;36m0\u001b[0m\u001b[1;33m\u001b[0m\u001b[1;33m\u001b[0m\u001b[0m\n\u001b[0;32m     15\u001b[0m         \u001b[1;32mfor\u001b[0m \u001b[0mline\u001b[0m \u001b[1;32min\u001b[0m \u001b[0mf2\u001b[0m\u001b[1;33m:\u001b[0m\u001b[1;33m\u001b[0m\u001b[1;33m\u001b[0m\u001b[0m\n\u001b[1;32m---> 16\u001b[1;33m             \u001b[1;32mfor\u001b[0m \u001b[0mitem\u001b[0m \u001b[1;32min\u001b[0m \u001b[0mpurchases\u001b[0m\u001b[1;33m.\u001b[0m\u001b[0mkeys\u001b[0m\u001b[1;33m(\u001b[0m\u001b[1;33m)\u001b[0m\u001b[1;33m:\u001b[0m\u001b[1;33m\u001b[0m\u001b[1;33m\u001b[0m\u001b[0m\n\u001b[0m\u001b[0;32m     17\u001b[0m                 \u001b[1;32mif\u001b[0m \u001b[0mitem\u001b[0m \u001b[1;32min\u001b[0m \u001b[0mline\u001b[0m\u001b[1;33m:\u001b[0m\u001b[1;33m\u001b[0m\u001b[1;33m\u001b[0m\u001b[0m\n\u001b[0;32m     18\u001b[0m                     \u001b[0mp\u001b[0m \u001b[1;33m=\u001b[0m \u001b[1;33m(\u001b[0m\u001b[0mline\u001b[0m\u001b[1;33m.\u001b[0m\u001b[0mstrip\u001b[0m\u001b[1;33m(\u001b[0m\u001b[1;33m)\u001b[0m\u001b[1;33m,\u001b[0m \u001b[0mpurchases\u001b[0m\u001b[1;33m[\u001b[0m\u001b[0mitem\u001b[0m\u001b[1;33m]\u001b[0m\u001b[1;33m)\u001b[0m\u001b[1;33m\u001b[0m\u001b[1;33m\u001b[0m\u001b[0m\n",
      "\u001b[1;31mKeyboardInterrupt\u001b[0m: "
     ]
    }
   ],
   "source": [
    "#Задача2 Для каждого user_id в файле visit_log.csv определите третий столбец с категорией покупки (если покупка была, сам файл visit_log.csv изменять не надо). Запишите в файл funnel.csv визиты из файла visit_log.csv, в которых были покупки с указанием категории.\n",
    "import json\n",
    "new_dict = {}\n",
    "purchases = {}\n",
    "with open('purchase_log.txt','r') as f:\n",
    "    \n",
    "        for line in f:\n",
    "            line = line.strip()\n",
    "            new_dict = json.loads(line)\n",
    "            purchases[new_dict['user_id']] =  new_dict['category']\n",
    "#до этого момента логика такая же как в примере 1, далее сравниваем visit_log и purchases, если есть сопадения по user_id, то \n",
    "# записываем в новый кортеж p, а далее переводим в строку и записываем в файл funnel.csv\n",
    "with open('visit_log.csv','r') as f2:\n",
    "    with open('funnel.csv','w') as f3:\n",
    "        i = 0\n",
    "        for line in f2:\n",
    "            for item in purchases.keys():\n",
    "                if item in line:\n",
    "                    p = (line.strip(), purchases[item])\n",
    "                    a = str(p)\n",
    "                    f3.write(a)\n",
    "                    i += 1\n",
    "                    if i > 5:\n",
    "                        break\n",
    "                    print(p)                \n",
    "\n",
    "#                print(purchases[item])\n",
    "#                i += 1\n",
    "#                if i > 5:\n",
    "#                    break\n"
   ]
  }
 ],
 "metadata": {
  "kernelspec": {
   "display_name": "Python 3",
   "language": "python",
   "name": "python3"
  },
  "language_info": {
   "codemirror_mode": {
    "name": "ipython",
    "version": 3
   },
   "file_extension": ".py",
   "mimetype": "text/x-python",
   "name": "python",
   "nbconvert_exporter": "python",
   "pygments_lexer": "ipython3",
   "version": "3.8.5"
  }
 },
 "nbformat": 4,
 "nbformat_minor": 4
}
