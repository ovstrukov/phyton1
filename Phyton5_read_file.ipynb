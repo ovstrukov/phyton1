{
 "cells": [
  {
   "cell_type": "code",
   "execution_count": 10,
   "metadata": {},
   "outputs": [
    {
     "name": "stdout",
     "output_type": "stream",
     "text": [
      "('1840e0b9d4', 'РџСЂРѕРґСѓРєС‚С‹')\n",
      "('4e4f90fcfb', 'Р\\xadР»РµРєС‚СЂРѕРЅРёРєР°')\n",
      "('afea8d72fc', 'Р\\xadР»РµРєС‚СЂРѕРЅРёРєР°')\n",
      "('373a6055fe', 'Р‘С‹С‚РѕРІР°СЏ С‚РµС…РЅРёРєР°')\n",
      "('9b2ab046f3', 'Р\\xadР»РµРєС‚СЂРѕРЅРёРєР°')\n",
      "('9f39d307c3', 'Р\\xadР»РµРєС‚СЂРѕРЅРёРєР°')\n"
     ]
    }
   ],
   "source": [
    "#Задача 1. Переведите содержимое файла purchase_log.txt в словарь purchases вида:\n",
    "#{‘1840e0b9d4’: ‘Продукты’, …}\n",
    "import json\n",
    "\n",
    "#with open('purchase_log.txt','r') as f:\n",
    "#    content = f.readlines()\n",
    "#В первом задании в файле purchase_log.txt можно пропустить первую строку с \"заголовком\" с помощью next(f) или f.readline().\n",
    "#Также лучше не считывать содержимое файла purchaselog.txt в оперативную память в строчке content = f.readlines(). А читать файл построчно:\n",
    "\n",
    "with open('purchase_log.txt') as f:\n",
    "    f.readline()\n",
    "    new_dict = {}\n",
    "    purchases = {}\n",
    "    for line in f:\n",
    "\n",
    "#content[1]\n",
    "#json.loads(content[1])    \n",
    "#for item in content:\n",
    "# new_dict - словарь из всех значений из файла\n",
    "\n",
    "        new_dict = json.loads(line)\n",
    "#purchases - новый словарь(id-категория покупки) сформированный из исходного\n",
    "        purchases[new_dict['user_id']] =  new_dict['category']\n",
    "i = 0\n",
    "for item in purchases.items():\n",
    "    print(item)\n",
    "    i += 1\n",
    "    if i > 5:\n",
    "        break"
   ]
  },
  {
   "cell_type": "code",
   "execution_count": 13,
   "metadata": {},
   "outputs": [
    {
     "name": "stdout",
     "output_type": "stream",
     "text": [
      "('user_id,source', 'category')\n",
      "('1840e0b9d4,other', 'РџСЂРѕРґСѓРєС‚С‹')\n",
      "('4e4f90fcfb,context', 'Р\\xadР»РµРєС‚СЂРѕРЅРёРєР°')\n",
      "('afea8d72fc,other', 'Р\\xadР»РµРєС‚СЂРѕРЅРёРєР°')\n",
      "('2824221f38,email', 'РџСЂРѕРґСѓРєС‚С‹')\n"
     ]
    }
   ],
   "source": [
    "#Задача2 Для каждого user_id в файле visit_log.csv определите третий столбец с категорией покупки (если покупка была, сам файл visit_log.csv изменять не надо). Запишите в файл funnel.csv визиты из файла visit_log.csv, в которых были покупки с указанием категории.\n",
    "import json\n",
    "new_dict = {}\n",
    "purchases = {}\n",
    "with open('purchase_log.txt','r') as f:\n",
    "    \n",
    "        for line in f:\n",
    "            line = line.strip()\n",
    "            new_dict = json.loads(line)\n",
    "            purchases[new_dict['user_id']] =  new_dict['category']\n",
    "#до этого момента логика такая же как в примере 1, далее сравниваем visit_log и purchases, если есть сопадения по user_id, то \n",
    "# записываем в новый кортеж p, а далее переводим в строку и записываем в файл funnel.csv\n",
    "with open('visit_log.csv','r') as f2:\n",
    "    with open('funnel.csv','w') as f3:\n",
    "        i = 0\n",
    "        for line in f2:\n",
    "            user_id = line.strip().split(',')[0]\n",
    "            if user_id in purchases:\n",
    "#            for user_id in purchases.keys():\n",
    "                if user_id in line:\n",
    "                    p = (line.strip(), purchases[user_id])\n",
    "                    a = str(p)\n",
    "                    f3.write(a)\n",
    "                    i += 1\n",
    "                    if i > 5:\n",
    "                        break\n",
    "                    print(p)                \n",
    "\n",
    "#                print(purchases[item])\n",
    "#                i += 1\n",
    "#                if i > 5:\n",
    "#                    break\n"
   ]
  }
 ],
 "metadata": {
  "kernelspec": {
   "display_name": "Python 3",
   "language": "python",
   "name": "python3"
  },
  "language_info": {
   "codemirror_mode": {
    "name": "ipython",
    "version": 3
   },
   "file_extension": ".py",
   "mimetype": "text/x-python",
   "name": "python",
   "nbconvert_exporter": "python",
   "pygments_lexer": "ipython3",
   "version": "3.8.5"
  }
 },
 "nbformat": 4,
 "nbformat_minor": 4
}
