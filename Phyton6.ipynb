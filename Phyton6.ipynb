{
 "cells": [
  {
   "cell_type": "code",
   "execution_count": 4,
   "metadata": {},
   "outputs": [
    {
     "name": "stdout",
     "output_type": "stream",
     "text": [
      "2002-10-02 00:00:00 2013-10-11 00:00:00 1977-08-18 00:00:00\n"
     ]
    }
   ],
   "source": [
    "#Задание 1\n",
    "#Печатные газеты использовали свой формат дат для каждого выпуска. Для каждой газеты из списка напишите формат указанной даты для перевода в объект datetime:\n",
    "#The Moscow Times - Wednesday, October 2, 2002\n",
    "#The Guardian - Friday, 11.10.13\n",
    "#Daily News - Thursday, 18 August 1977\n",
    "from datetime import datetime\n",
    "\n",
    "\n",
    "The_Moscow_Times = 'Wednesday, October 2, 2002'\n",
    "The_Guardian = 'Friday, 11.10.13'\n",
    "Daily_News = 'Thursday, 18 August 1977'\n",
    "\n",
    "MT = datetime.strptime(The_Moscow_Times, '%A, %B %d, %Y')\n",
    "Guar = datetime.strptime(The_Guardian, '%A, %d.%m.%y')\n",
    "DN = datetime.strptime(Daily_News, '%A, %d %B %Y')\n",
    "print(MT, Guar, DN)"
   ]
  },
  {
   "cell_type": "code",
   "execution_count": 7,
   "metadata": {},
   "outputs": [
    {
     "name": "stdout",
     "output_type": "stream",
     "text": [
      "true\n",
      "false\n",
      "false\n"
     ]
    }
   ],
   "source": [
    "#Задание 2\n",
    "#Дан поток дат в формате YYYY-MM-DD, в которых встречаются некорректные значения:\n",
    "#stream = [‘2018-04-02’, ‘2018-02-29’, ‘2018-19-02’]\n",
    "\n",
    "#Напишите функцию, которая проверяет эти даты на корректность. Т. е. для каждой даты возвращает True (дата корректна) или False (некорректная дата).\n",
    "stream = ['2018-04-02', '2018-02-29', '2018-19-02']\n",
    "for date in stream:\n",
    "    try:\n",
    "        datetime.strptime(date, '%Y-%m-%d')\n",
    "        print('true')\n",
    "    except:\n",
    "        print('false')"
   ]
  },
  {
   "cell_type": "code",
   "execution_count": 25,
   "metadata": {},
   "outputs": [
    {
     "name": "stdout",
     "output_type": "stream",
     "text": [
      "Введите начальную дату YYYY-MM-DD:2000-01-01\n",
      "Введите конечную дату YYYY-MM-DD:2000-01-31\n",
      "2000-01-01\n",
      "2000-01-02\n",
      "2000-01-03\n",
      "2000-01-04\n",
      "2000-01-05\n",
      "2000-01-06\n",
      "2000-01-07\n",
      "2000-01-08\n",
      "2000-01-09\n",
      "2000-01-10\n",
      "2000-01-11\n",
      "2000-01-12\n",
      "2000-01-13\n",
      "2000-01-14\n",
      "2000-01-15\n",
      "2000-01-16\n",
      "2000-01-17\n",
      "2000-01-18\n",
      "2000-01-19\n",
      "2000-01-20\n",
      "2000-01-21\n",
      "2000-01-22\n",
      "2000-01-23\n",
      "2000-01-24\n",
      "2000-01-25\n",
      "2000-01-26\n",
      "2000-01-27\n",
      "2000-01-28\n",
      "2000-01-29\n",
      "2000-01-30\n",
      "2000-01-31\n"
     ]
    }
   ],
   "source": [
    "#Задание 3\n",
    "#Напишите функцию date_range, которая возвращает список дат за период от start_date до end_date. Даты должны вводиться в формате YYYY-MM-DD. В случае неверного формата или при start_date > end_date должен возвращаться пустой список.\n",
    "from datetime import timedelta\n",
    "def date_range():\n",
    "    user_input_start = input('Введите начальную дату YYYY-MM-DD:')\n",
    "    user_input_end = input('Введите конечную дату YYYY-MM-DD:')\n",
    "    try:\n",
    "#преобразуем введенные данные в datetime, сравниваем и выводим результат в зависимости от условий\n",
    "        start_dt = datetime.strptime(user_input_start, '%Y-%m-%d')\n",
    "        end_dt = datetime.strptime(user_input_end, '%Y-%m-%d')\n",
    "        if start_dt > end_dt:\n",
    "            print('[]')\n",
    "        else:\n",
    "            current_dt = start_dt\n",
    "            while current_dt <= end_dt:\n",
    "                print(current_dt.strftime('%Y-%m-%d'))\n",
    "                current_dt += timedelta(days=1)\n",
    "    except:\n",
    "        print('{}')\n",
    "date_range()"
   ]
  }
 ],
 "metadata": {
  "kernelspec": {
   "display_name": "Python 3",
   "language": "python",
   "name": "python3"
  },
  "language_info": {
   "codemirror_mode": {
    "name": "ipython",
    "version": 3
   },
   "file_extension": ".py",
   "mimetype": "text/x-python",
   "name": "python",
   "nbconvert_exporter": "python",
   "pygments_lexer": "ipython3",
   "version": "3.8.5"
  }
 },
 "nbformat": 4,
 "nbformat_minor": 4
}
