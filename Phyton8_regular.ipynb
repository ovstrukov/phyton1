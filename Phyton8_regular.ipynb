{
 "cells": [
  {
   "cell_type": "code",
   "execution_count": 2,
   "metadata": {},
   "outputs": [
    {
     "name": "stdout",
     "output_type": "stream",
     "text": [
      "Введите номер авто: А136АА136\n",
      "Номер А136АА валиден. Регион: 136\n"
     ]
    }
   ],
   "source": [
    "## Задание 1\n",
    "\n",
    "##Напишите функцию, которая принимает на вход строку и проверяет является ли она валидным транспортным номером (1 буква, 3 цифры, 2 буквы, 2-3 цифры). Обратите внимание, что не все буквы кириллического алфавита используются в транспортных номерах.\n",
    "\n",
    "#Если номер валиден, то функция должна возвращать отдельно номер и регион.\n",
    "import re\n",
    "def check_car():\n",
    "    car_id = input('Введите номер авто: ')\n",
    "    car_id_check = r'([А|В|Е|К|М|Н|О|Р|С|Т|У|Х]{1})(\\d{3})([А|В|Е|К|М|Н|О|Р|С|Т|У|Х]{2})(\\d{2,3})'\n",
    "    if re.search(car_id_check, car_id):\n",
    "        car_result = re.search(car_id_check, car_id)\n",
    "        print(f'Номер {car_result.group(1) + car_result.group(2) + car_result.group(3)} валиден. Регион: {car_result.group(4)}')\n",
    "    else:\n",
    "        print('Номер не валиден')\n",
    "check_car()"
   ]
  },
  {
   "cell_type": "code",
   "execution_count": 206,
   "metadata": {},
   "outputs": [
    {
     "data": {
      "text/plain": [
       "'Напишите функцию функцию, которая будет удалять все последовательные повторы слов из заданной строки при помощи регулярных выражений'"
      ]
     },
     "execution_count": 206,
     "metadata": {},
     "output_type": "execute_result"
    }
   ],
   "source": [
    "#Задание 2\n",
    "#Напишите функцию, которая будет удалять все последовательные повторы слов из заданной строки при помощи регулярных выражений.\n",
    "#Пример работы программы:\n",
    "#some_string = 'Напишите функцию функцию, которая будет будет будет будет удалять все все все все последовательные повторы слов из из из из заданной строки строки при помощи регулярных выражений'\n",
    "#Результат: Напишите функцию, которая будет удалять все последовательные повторы слов из заданной строки при помощи регулярных выражений.\n",
    "some_string = 'Напишите Напишите функцию функцию, которая будет будет будет будет удалять все все все все последовательные повторы слов из из из из заданной строки строки при помощи регулярных выражений'\n",
    "def check_str(string):\n",
    "    return re.sub(r'((?:\\w+)\\s)\\1+', r'\\1',string)\n",
    "\n",
    "check_str(some_string)\n"
   ]
  },
  {
   "cell_type": "code",
   "execution_count": 270,
   "metadata": {},
   "outputs": [
    {
     "data": {
      "text/plain": [
       "'Ит'"
      ]
     },
     "execution_count": 270,
     "metadata": {},
     "output_type": "execute_result"
    }
   ],
   "source": [
    "#Задание 3\n",
    "#Напишите функцию, которая будет возвращать акроним по переданной в нее строке со словами.\n",
    "\n",
    "some_words = 'Информационные технологии'\n",
    "def acronym(some_list):\n",
    "# сделаем список из строки some_list с помощью re.split\n",
    "    sort = re.split(' ', some_list)\n",
    "    result = []\n",
    "    arc = ''\n",
    "#найдем первые буквы re.findall(r'^\\w', word) и поместим с новый список result\n",
    "    for word  in sort:\n",
    "        result += re.findall(r'^\\w', word)\n",
    "#склеим элементы (буквы) из списка result с строку\n",
    "    for words in result:\n",
    "        arc += words\n",
    "    return arc\n",
    "        \n",
    "acronym(some_words)"
   ]
  },
  {
   "cell_type": "code",
   "execution_count": 326,
   "metadata": {},
   "outputs": [
    {
     "data": {
      "text/plain": [
       "{'@gmail.com': 2, '@test.in': 1, '@ya.ru': 2, '@mail.ru': 1}"
      ]
     },
     "execution_count": 326,
     "metadata": {},
     "output_type": "execute_result"
    }
   ],
   "source": [
    "#Задание 4\n",
    "#Напишите функцию, которая будет принимать на вход список email-адресов и выводить их распределение по доменным зонам.\n",
    "#Пример работы программы:\n",
    "#emails = ['test@gmail.com, xyz@test.in, test@ya.ru, xyz@mail.ru, xyz@ya.ru', xyz@gmail.com]\n",
    "#Результат:\n",
    "#gmail.com: 2\n",
    "#test.in: 1 \n",
    "#ya.ru: 2 \n",
    "#mail.ru: 1\n",
    "emails = ['test@gmail.com', 'xyz@test.in', 'test@ya.ru', 'xyz@mail.ru', 'xyz@ya.ru', 'xyz@gmail.com']\n",
    "def check_emails(my_emails):\n",
    "    email_dict = {}\n",
    "    for mail in my_emails:\n",
    "        if re.findall(r'@\\w+\\.\\w+', mail)[0] not in email_dict.keys():\n",
    "            email_dict[re.findall(r'@\\w+\\.\\w+', mail)[0]] = 1\n",
    "        else:\n",
    "            email_dict[re.findall(r'@\\w+\\.\\w+', mail)[0]] += 1\n",
    "    return email_dict\n",
    "check_emails(emails)"
   ]
  }
 ],
 "metadata": {
  "kernelspec": {
   "display_name": "Python 3",
   "language": "python",
   "name": "python3"
  },
  "language_info": {
   "codemirror_mode": {
    "name": "ipython",
    "version": 3
   },
   "file_extension": ".py",
   "mimetype": "text/x-python",
   "name": "python",
   "nbconvert_exporter": "python",
   "pygments_lexer": "ipython3",
   "version": "3.8.5"
  }
 },
 "nbformat": 4,
 "nbformat_minor": 4
}
