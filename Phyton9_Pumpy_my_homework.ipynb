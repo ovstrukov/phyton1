{
 "cells": [
  {
   "cell_type": "code",
   "execution_count": 55,
   "metadata": {},
   "outputs": [
    {
     "data": {
      "text/plain": [
       "array([9, 8, 7, 6, 5, 4, 3, 2, 1, 0])"
      ]
     },
     "execution_count": 55,
     "metadata": {},
     "output_type": "execute_result"
    }
   ],
   "source": [
    "#Задание 1\n",
    "#Создайте numpy array с элементами от числа N до 0 (например, для N = 10 это будет array([9, 8, 7, 6, 5, 4, 3, 2, 1, 0])).\n",
    "import numpy as np\n",
    "N = 10\n",
    "np.arange(N-1,-1,-1)\n"
   ]
  },
  {
   "cell_type": "code",
   "execution_count": 54,
   "metadata": {},
   "outputs": [
    {
     "data": {
      "text/plain": [
       "45"
      ]
     },
     "execution_count": 54,
     "metadata": {},
     "output_type": "execute_result"
    }
   ],
   "source": [
    "#Задание 2\n",
    "#Создайте диагональную матрицу с элементами от N до 0. Посчитайте сумму ее значений на диагонали.\n",
    "diag_matrix = np.diag(np.arange(N-1,-1,-1), k=0)\n",
    "#diag_items -список из значений по диагонали из матрицы diag_matrix\n",
    "diag_items = diag_matrix[np.arange(N-1,-1,-1),np.arange(N-1,-1,-1)]\n",
    "sum_of_diag_items =sum(diag_items)\n",
    "sum_of_diag_items\n"
   ]
  },
  {
   "cell_type": "code",
   "execution_count": 42,
   "metadata": {},
   "outputs": [
    {
     "data": {
      "text/plain": [
       "array([ 0.46666667,  3.84444444, -5.55555556])"
      ]
     },
     "execution_count": 42,
     "metadata": {},
     "output_type": "execute_result"
    }
   ],
   "source": [
    "#Задание 3\n",
    "#Решите систему уравнений:\n",
    "#4x + 2y + z = 4\n",
    "#x + 3y = 12\n",
    "#5y + 4z = -3\n",
    "\n",
    "# в a записываем вектора значений при x,y,z\n",
    "#в b записываем значения после знака равно\n",
    "a = np.array([[4,2,1], [1,3,0], [0,5,4]])\n",
    "b = np.array([4,12,-3])\n",
    "from numpy import linalg\n",
    "#решаем систему уравнений с помощью метода solve класса linalg\n",
    "linalg.solve(a,b)\n"
   ]
  },
  {
   "cell_type": "code",
   "execution_count": 41,
   "metadata": {},
   "outputs": [
    {
     "data": {
      "text/plain": [
       "True"
      ]
     },
     "execution_count": 41,
     "metadata": {},
     "output_type": "execute_result"
    }
   ],
   "source": [
    "#Проверка правильности решения\n",
    "np.allclose(np.dot(a,linalg.solve(a,b)),b)\n",
    "#np.allclose(a.dot(linalg.solve(a,b)),b) -второй вариант написания проверки"
   ]
  },
  {
   "cell_type": "code",
   "execution_count": 38,
   "metadata": {},
   "outputs": [
    {
     "name": "stdout",
     "output_type": "stream",
     "text": [
      "[0.19999999999999996, 0.8451542547285165, 0.3999999999999999, 0.7905694150420948, 0.3999999999999999, 0.0, 0.0, 0.9486832980505138, 0.0, 0.0]\n",
      "0.9486832980505138\n"
     ]
    },
    {
     "data": {
      "text/plain": [
       "8"
      ]
     },
     "execution_count": 38,
     "metadata": {},
     "output_type": "execute_result"
    }
   ],
   "source": [
    "#Задача4\n",
    "#Имеется матрица покупок в интернет-магазине. Столбец А - ID пользователя. Остальные столбцы - количество покупок категорий товаров этим пользователем:\n",
    "#Матрица в виде numpy array\n",
    "#На сайт заходит очередной посетитель, о покупках которого известно следующее:\n",
    "#next_user_stats = np.array([0, 1, 2, 0, 0, 0])\n",
    "#Найдите самого похожего пользователя. Т. е. посчитайте косинусное сходство между этим пользователем и всеми пользователями из массива user_stats\n",
    "users_stats = np.array(\n",
    "    [\n",
    "        [2, 1, 0, 0, 0, 0],\n",
    "        [1, 1, 2, 1, 0, 0],\n",
    "        [2, 0, 1, 0, 0, 0],\n",
    "        [1, 1, 2, 1, 0, 1],\n",
    "        [0, 0, 1, 2, 0, 0],\n",
    "        [0, 0, 0, 0, 0, 5],\n",
    "        [1, 0, 0, 0, 0, 0],\n",
    "        [0, 1, 1, 0, 0, 0],\n",
    "        [0, 0, 0, 1, 1, 3],\n",
    "        [1, 0, 0, 2, 1, 4]\n",
    "    ], \n",
    "    np.int32\n",
    ")\n",
    "next_user_stats = np.array([0, 1, 2, 0, 0, 0])\n",
    "cosine = []\n",
    "for user in users_stats:\n",
    "#длины векторов из матрицы\n",
    "    userLength = np.linalg.norm(user)\n",
    "#длина вектора нового пользователя\n",
    "    next_user_Length = np.linalg.norm(next_user_stats)\n",
    "#считаем косинусы (=косинусное сходство = скалярное произведение векторов делим на произведение длин векторов) углов между вектором из матрицы и вектором нового пользователя и полученные значения добавляем в список cosine \n",
    "    cosine.append(np.dot(user,next_user_stats)/(userLength*next_user_Length))\n",
    "#находим индекс максимального значения в списке cosine и прибавляем единицу, т.к. отсчет в таблице идет не с нуля с 1 в отличие от индексации списка\n",
    "#similar_user_id - id самого похожего пользователя\n",
    "similar_user_id = cosine.index(max(cosine)) + 1\n",
    "print(cosine)\n",
    "print(max(cosine))\n",
    "similar_user_id"
   ]
  }
 ],
 "metadata": {
  "kernelspec": {
   "display_name": "Python 3",
   "language": "python",
   "name": "python3"
  },
  "language_info": {
   "codemirror_mode": {
    "name": "ipython",
    "version": 3
   },
   "file_extension": ".py",
   "mimetype": "text/x-python",
   "name": "python",
   "nbconvert_exporter": "python",
   "pygments_lexer": "ipython3",
   "version": "3.8.5"
  }
 },
 "nbformat": 4,
 "nbformat_minor": 4
}
