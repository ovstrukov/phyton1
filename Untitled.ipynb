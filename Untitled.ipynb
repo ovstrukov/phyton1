{
 "cells": [
  {
   "cell_type": "code",
   "execution_count": 2,
   "metadata": {
    "scrolled": true
   },
   "outputs": [
    {
     "name": "stdout",
     "output_type": "stream",
     "text": [
      "Под: 7\n",
      "Город: 3\n",
      "Гору: 2\n",
      "Не: 2\n",
      "Подошвой: 2\n",
      "То: 2\n",
      "Который: 2\n",
      "Когда: 2\n",
      "Меня: 1\n",
      "Сборы: 1\n",
      "Таможния: 1\n",
      "Потом: 1\n",
      "Подошвойв: 1\n",
      "Коротко: 1\n",
      "Если: 1\n",
      "Рэп: 1\n",
      "Тошноя: 1\n",
      "Все: 1\n",
      "Госпошлины: 1\n",
      "Же: 1\n",
      "Что: 1\n",
      "Чтоуж: 1\n",
      "Каблуком: 1\n",
      "Гулливер: 1\n",
      "Но: 1\n",
      "Живешь: 1\n",
      "Прет: 1\n",
      "Год: 1\n",
      "Весь: 1\n",
      "Подошвойгород: 1\n",
      "Знаю: 1\n",
      "Дорожкаты: 1\n",
      "Эта: 1\n",
      "Мой: 1\n",
      "Про: 1\n",
      "У: 1\n",
      "Дно: 1\n",
      "Вброд: 1\n",
      "город: 1\n",
      "На: 1\n",
      "Или: 1\n",
      "И: 1\n",
      "Подошвойсветофоры: 1\n"
     ]
    }
   ],
   "source": [
    "some_oxy_text = '''Весь мой рэп, если коротко, про то, чтоУж который год который город под подошвойВ гору, когда прет. Потом под гору, когда тошноЯ не то, что Гулливер, но все же город под подошвойГород под подошвой, город под подошвойСветофоры, госпошлины, сборы и таможниЯ не знаю, вброд или на дно эта дорожкаТы живешь под каблуком, у меня - город под подошвой'''\n",
    "#for word in some_oxy_text:\n",
    "oxy_split = some_oxy_text.split()\n",
    "for word in oxy_split:\n",
    "    oxy_split[oxy_split.index(word)] = word.strip(',').strip('.').capitalize()\n",
    "    if word == '-':\n",
    "        oxy_split.remove(word)\n",
    "\n",
    "oxy_dict = {}\n",
    "for word in set(oxy_split):\n",
    "    oxy_dict[word] = oxy_split.count(word)\n",
    "    \n",
    "for key, value in sorted(oxy_dict.items(), key=lambda kv: kv[1], reverse=True):\n",
    "    print(f'{key}: {value}')"
   ]
  },
  {
   "cell_type": "code",
   "execution_count": null,
   "metadata": {},
   "outputs": [],
   "source": []
  }
 ],
 "metadata": {
  "kernelspec": {
   "display_name": "Python 3",
   "language": "python",
   "name": "python3"
  },
  "language_info": {
   "codemirror_mode": {
    "name": "ipython",
    "version": 3
   },
   "file_extension": ".py",
   "mimetype": "text/x-python",
   "name": "python",
   "nbconvert_exporter": "python",
   "pygments_lexer": "ipython3",
   "version": "3.8.5"
  }
 },
 "nbformat": 4,
 "nbformat_minor": 4
}
